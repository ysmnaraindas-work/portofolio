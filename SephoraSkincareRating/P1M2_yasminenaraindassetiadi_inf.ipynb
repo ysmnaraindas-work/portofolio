{
 "cells": [
  {
   "cell_type": "code",
   "execution_count": 2,
   "metadata": {},
   "outputs": [
    {
     "name": "stdout",
     "output_type": "stream",
     "text": [
      "Prediksi rating produk skincare: [4.39595928]\n"
     ]
    }
   ],
   "source": [
    "import joblib\n",
    "import pandas as pd\n",
    "\n",
    "# Memuat model dan pipeline preprocessing yang sudah disimpan\n",
    "model_pipeline = joblib.load('best_random_forest_model.pkl')\n",
    "\n",
    "# Data baru untuk inferensi (pastikan sesuai dengan kolom saat pelatihan)\n",
    "new_data = pd.DataFrame({\n",
    "    'loves_count': [0],  # contoh data baru\n",
    "    'reviews': [0],  # contoh data baru\n",
    "    'ingredients': [0],  # contoh data baru\n",
    "    'price_usd': [250],  # contoh data baru\n",
    "    'child_count': [0],  # contoh data baru\n",
    "    'primary_category': ['Skincare'],  # contoh data baru\n",
    "    'new': [1],  # contoh data baru\n",
    "    'online_only': [0],  # contoh data baru\n",
    "    'limited_edition': [0],  # contoh data baru\n",
    "    'out_of_stock': [0],  # contoh data baru\n",
    "    'sephora_exclusive': [0]  # contoh data baru\n",
    "})\n",
    "\n",
    "# Prediksi menggunakan model\n",
    "predictions = model_pipeline.predict(new_data)\n",
    "\n",
    "# Tampilkan hasil prediksi\n",
    "print(\"Prediksi rating produk skincare:\", predictions)\n"
   ]
  }
 ],
 "metadata": {
  "kernelspec": {
   "display_name": "base",
   "language": "python",
   "name": "python3"
  },
  "language_info": {
   "codemirror_mode": {
    "name": "ipython",
    "version": 3
   },
   "file_extension": ".py",
   "mimetype": "text/x-python",
   "name": "python",
   "nbconvert_exporter": "python",
   "pygments_lexer": "ipython3",
   "version": "3.9.20"
  }
 },
 "nbformat": 4,
 "nbformat_minor": 2
}
